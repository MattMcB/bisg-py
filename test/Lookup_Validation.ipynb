{
 "cells": [
  {
   "cell_type": "code",
   "execution_count": null,
   "id": "8bb042fe-6b74-4783-8b56-d65e0e5aa076",
   "metadata": {},
   "outputs": [],
   "source": [
    "import sys\n",
    "home_path = '/home/cfpb/gilliesi/bisg-py'\n",
    "sys.path.insert(1, home_path+'/utils')\n",
    "from LookupTables import LookUpTables\n",
    "from BISG import BISG\n",
    "from DataFrameUtils import input_to_dataframe\n",
    "import pandas as pd \n",
    "import numpy as np "
   ]
  },
  {
   "cell_type": "code",
   "execution_count": null,
   "id": "107ce4dc-9291-488e-86fc-1b195f89ae08",
   "metadata": {},
   "outputs": [],
   "source": [
    "MyBISG= BISG(census_surname_data= [home_path+'/input_files/Names_2010Census.csv',home_path+'/input_files/app_c.csv'],\n",
    "                census_block_group_data=home_path+'/input_files/blkgrp_over_18_race_jan20.csv',\n",
    "                census_tract_data=home_path+'/input_files/tract_over_18_race_jan20.csv',\n",
    "                census_zip_data=home_path+'/input_files/zip_over_18_race_jan20.csv')"
   ]
  },
  {
   "cell_type": "markdown",
   "id": "ed2ac796-057f-453a-8f67-da746c4bde7e",
   "metadata": {
    "tags": []
   },
   "source": [
    "# Surname Test"
   ]
  },
  {
   "cell_type": "code",
   "execution_count": null,
   "id": "4aee23e5-4471-4a88-b77d-a99096f05104",
   "metadata": {},
   "outputs": [],
   "source": [
    "census_surnames_stata=input_to_dataframe(home_path+'/test_files/census_surnames_lower.dta')"
   ]
  },
  {
   "cell_type": "code",
   "execution_count": null,
   "id": "b0250a61-d274-4178-8103-ed414b0ae80e",
   "metadata": {},
   "outputs": [],
   "source": [
    "renamer={'pct'+race : 'pr_'+ race+'_given_surname' for race in MyBISG.LookupTables.race_list}\n",
    "renamer['pct2prace']='pr_'+ 'mult_other'+'_given_surname'\n",
    "del renamer['pctmult_other']\n",
    "\n",
    "census_surname_lookup_stata = census_surnames_stata.rename(columns=renamer)[['name']+list(renamer.values())].sort_values(by='name').reset_index(drop=True)\n",
    "census_surname_lookup_python = MyBISG.LookupTables.pr_race_given_surname[['name']+list(renamer.values())].sort_values(by='name').reset_index(drop=True)"
   ]
  },
  {
   "cell_type": "code",
   "execution_count": null,
   "id": "5a0de1c6-246a-4214-8e21-c8a3ed1b5a58",
   "metadata": {},
   "outputs": [],
   "source": [
    "(census_surname_lookup_stata==census_surname_lookup_python).all(axis=1)[(census_surname_lookup_stata==census_surname_lookup_python).all(axis=1)==False]\n",
    "(census_surname_lookup_stata==census_surname_lookup_python).all().all()"
   ]
  },
  {
   "cell_type": "markdown",
   "id": "31954bad-85ba-43bf-b716-ac03d43de1be",
   "metadata": {},
   "source": [
    "# Geo Tests"
   ]
  },
  {
   "cell_type": "code",
   "execution_count": null,
   "id": "6cb3951c-d3c2-47c9-b368-b957f74a6c75",
   "metadata": {},
   "outputs": [],
   "source": [
    "race_list=MyBISG.LookupTables.race_list\n",
    "geo='zip'\n",
    "census_geo_python=MyBISG.LookupTables.pr_zip_given_race\n",
    "census_geo_stata=input_to_dataframe(home_path+'/test_files/zip_attr_over18_jan20.dta')\n",
    "\n",
    "#rename the columns\n",
    "renamer=({f'geo_pr_{race}' : f'pr_{race}_given_geo' for race in race_list})\n",
    "d2={f'here_given_{race}':f'pr_geo_given_{race}' for race in race_list }\n",
    "renamer['here']='pr_geo'\n",
    "renamer.update(d2)\n",
    "\n",
    "census_geo_stata=census_geo_stata.rename(columns=renamer)[['GeoInd']+list(renamer.values())].sort_values('GeoInd').reset_index(drop=True)\n",
    "census_geo_python=census_geo_python[['GeoInd']+list(renamer.values())].sort_values('GeoInd').reset_index(drop=True)\n",
    "\n",
    "((census_geo_stata.drop('GeoInd',axis=1)-census_geo_python.drop('GeoInd',axis=1)).abs()>=10e-5)[((census_geo_stata.drop('GeoInd',axis=1)-census_geo_python.drop('GeoInd',axis=1)).abs()>=10e-5).all(axis=1)].shape"
   ]
  },
  {
   "cell_type": "code",
   "execution_count": null,
   "id": "165e1c72-0edd-4d9a-b4d4-51a57dc40364",
   "metadata": {},
   "outputs": [],
   "source": []
  },
  {
   "cell_type": "code",
   "execution_count": null,
   "id": "d80b5379-66ad-46d1-8d87-0645fb3b51d6",
   "metadata": {},
   "outputs": [],
   "source": [
    "table"
   ]
  },
  {
   "cell_type": "code",
   "execution_count": null,
   "id": "cbd69d5d-e2df-40dd-9f98-675feac882e2",
   "metadata": {},
   "outputs": [],
   "source": []
  }
 ],
 "metadata": {
  "kernelspec": {
   "display_name": "bisg-py",
   "language": "python",
   "name": "bisg-py"
  },
  "language_info": {
   "codemirror_mode": {
    "name": "ipython",
    "version": 3
   },
   "file_extension": ".py",
   "mimetype": "text/x-python",
   "name": "python",
   "nbconvert_exporter": "python",
   "pygments_lexer": "ipython3",
   "version": "3.9.19"
  }
 },
 "nbformat": 4,
 "nbformat_minor": 5
}
